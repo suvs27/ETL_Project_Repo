{
 "cells": [
  {
   "cell_type": "markdown",
   "metadata": {},
   "source": [
    "# Measles in 2019\n",
    "#### By: Ankit Rana and Suvarna Sampale\n",
    "\n",
    "#### ETL Project\n",
    "In our project, we extracted, transformed, and loaded data related to measles in 2019.  Measles, a congtagious respiratory\n",
    "virus can lead to complications, especially in babies and young children.  Its symptoms include cough, runny nose,\n",
    "rash, and red, watery eyes.  There have been recent reports of measles outbreaks in the NY and NJ area.\n",
    "\n",
    "We obtained our dataset from the CDC at the following website:\n",
    "https://healthdata.gov/dataset/nndss-table-1v-malaria-measles-imported-0.\n",
    "The data was provided in a csv file format and a json file format.\n",
    "The data provides information on provisional cases of measles reported to the CDC from different\n",
    "jurisdictions around the country in 2019 up until August of 2019.  The cases are called provisional because of the need\n",
    "for case follow-up.  The CDC finalizes these following the end of the calendar year.  Some additional information that we\n",
    "collected to help understand the information in our dataset is in Word document in our project folder called \"Notes.\"\n",
    "We also scraped data related to measles from the CDC website.\n",
    "\n",
    "#### Extraction of Data\n",
    "\n",
    "1. The CSV and JSON file were obtained from the CDC at this website: https://healthdata.gov/dataset/nndss-table-1v-malaria-measles-imported-0.\n",
    "\n",
    "2. The html data was scraped from the following CDC website: https://www.cdc.gov/mmwr/volumes/68/wr/mm6817e1.htm\n",
    "\n",
    "\n",
    "#### Transformation of Data\n",
    "\n",
    "Steps to transform CSV and JSON data\n",
    "1. Dropped all columns related to malaria since we were only focusing on measles\n",
    "2. Selected the columns we were interested in querying and renamed them so they were easier to search.\n",
    "3. We created tables with columns of related data.\n",
    "4. In certain instances, we aggregated columns of data related to imported and indigeniousis measles cases to get a combined count.  Indigenious cases originated in the US and imported cases originated outside of the US, but both cases exist in the US.\n",
    "5. In certain instances, we dropped NA values, because information as of the current week was not available or reported.\n",
    "\n",
    "Steps to Transform Webscraped data.\n",
    "1. Used BeautifulSoup to scrape https://www.cdc.gov/mmwr/volumes/68/wr/mm6817e1.htm for tables.\n",
    "2. Once tables were found, they were loaded into a Pandas Dataframe.\n",
    "3. Transformed the dataframe by creating multiple tables from the larger table\n",
    "\n",
    "#### Load\n",
    "We loaded the tables we selected into MongoDB using PyMongo\n",
    "The reason why we chose MongoDB was because it was more faster and efficient and people would be able to pull data related to their specific reporting area and find out whether there was  recent outbreak quickly.\n"
   ]
  },
  {
   "cell_type": "code",
   "execution_count": null,
   "metadata": {},
   "outputs": [],
   "source": []
  }
 ],
 "metadata": {
  "kernelspec": {
   "display_name": "Python 3",
   "language": "python",
   "name": "python3"
  },
  "language_info": {
   "codemirror_mode": {
    "name": "ipython",
    "version": 3
   },
   "file_extension": ".py",
   "mimetype": "text/x-python",
   "name": "python",
   "nbconvert_exporter": "python",
   "pygments_lexer": "ipython3",
   "version": "3.7.3"
  }
 },
 "nbformat": 4,
 "nbformat_minor": 2
}
